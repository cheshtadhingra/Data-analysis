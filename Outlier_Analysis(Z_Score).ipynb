{
  "nbformat": 4,
  "nbformat_minor": 0,
  "metadata": {
    "colab": {
      "name": "Outlier Analysis(Z-Score).ipynb",
      "provenance": [],
      "authorship_tag": "ABX9TyOrp0VH7ksVBsEpBn18eKV+",
      "include_colab_link": true
    },
    "kernelspec": {
      "name": "python3",
      "display_name": "Python 3"
    },
    "language_info": {
      "name": "python"
    }
  },
  "cells": [
    {
      "cell_type": "markdown",
      "metadata": {
        "id": "view-in-github",
        "colab_type": "text"
      },
      "source": [
        "<a href=\"https://colab.research.google.com/github/cheshtadhingra/Data-analysis/blob/main/Outlier_Analysis(Z_Score).ipynb\" target=\"_parent\"><img src=\"https://colab.research.google.com/assets/colab-badge.svg\" alt=\"Open In Colab\"/></a>"
      ]
    },
    {
      "cell_type": "markdown",
      "source": [
        "**OUTLIER ANALYSIS USING Z-SCORE**"
      ],
      "metadata": {
        "id": "c_2DApsgSYbI"
      }
    },
    {
      "cell_type": "markdown",
      "source": [
        "1. Importing all the necessary libraries"
      ],
      "metadata": {
        "id": "A6-_eW6hSeSu"
      }
    },
    {
      "cell_type": "code",
      "execution_count": null,
      "metadata": {
        "id": "BsC2xkfiSVzW"
      },
      "outputs": [],
      "source": [
        "import pandas as pd\n",
        "import numpy as np\n",
        "import seaborn as sns\n",
        "import matplotlib.pyplot as plt\n"
      ]
    },
    {
      "cell_type": "markdown",
      "source": [
        "2. defining the dataset"
      ],
      "metadata": {
        "id": "_ULp4gXWWtKf"
      }
    },
    {
      "cell_type": "code",
      "source": [
        "dataset = np.array( [23,24,26,34,23,6,45,23,54,28,29, 28, 34, 23, 20, 21, 24, 288, 34, 344, 23])\n",
        "dataset = sorted(dataset)\n",
        "dataset"
      ],
      "metadata": {
        "colab": {
          "base_uri": "https://localhost:8080/"
        },
        "id": "jncUSyPoWmnU",
        "outputId": "920b420b-6489-4171-da3e-bb96fb5bedc9"
      },
      "execution_count": null,
      "outputs": [
        {
          "output_type": "execute_result",
          "data": {
            "text/plain": [
              "[6,\n",
              " 20,\n",
              " 21,\n",
              " 23,\n",
              " 23,\n",
              " 23,\n",
              " 23,\n",
              " 23,\n",
              " 24,\n",
              " 24,\n",
              " 26,\n",
              " 28,\n",
              " 28,\n",
              " 29,\n",
              " 34,\n",
              " 34,\n",
              " 34,\n",
              " 45,\n",
              " 54,\n",
              " 288,\n",
              " 344]"
            ]
          },
          "metadata": {},
          "execution_count": 13
        }
      ]
    },
    {
      "cell_type": "markdown",
      "source": [
        "3. Detecting the outliers using z-score. \n",
        "Formula for calculating z-score = (observation-mean)/Standard deviation"
      ],
      "metadata": {
        "id": "uRlVdbvRW69G"
      }
    },
    {
      "cell_type": "markdown",
      "source": [
        "Data point that falls outside of 3 standard deviations. we can use a z score and if the z score falls outside of 2 standard deviation"
      ],
      "metadata": {
        "id": "lSIeZYB_X0Sc"
      }
    },
    {
      "cell_type": "code",
      "source": [
        "outliers=[]\n",
        "def detect_outliers(data):\n",
        "    \n",
        "    threshold=3\n",
        "    mean = np.mean(data)\n",
        "    std =np.std(data)\n",
        "    \n",
        "    \n",
        "    for i in data:\n",
        "        z_score= (i - mean)/std \n",
        "        if np.abs(z_score) > threshold:\n",
        "            outliers.append(i)\n",
        "    return outliers"
      ],
      "metadata": {
        "id": "vhIZCzV4Wvzp"
      },
      "execution_count": null,
      "outputs": []
    },
    {
      "cell_type": "code",
      "source": [
        "detect_outliers(dataset)"
      ],
      "metadata": {
        "colab": {
          "base_uri": "https://localhost:8080/"
        },
        "id": "nceyBGhFXP4Z",
        "outputId": "13356162-9301-44cc-effc-243b28df0ad3"
      },
      "execution_count": null,
      "outputs": [
        {
          "output_type": "execute_result",
          "data": {
            "text/plain": [
              "[344]"
            ]
          },
          "metadata": {},
          "execution_count": 11
        }
      ]
    },
    {
      "cell_type": "code",
      "source": [
        ""
      ],
      "metadata": {
        "id": "64XY3fg2eP2n"
      },
      "execution_count": null,
      "outputs": []
    }
  ]
}