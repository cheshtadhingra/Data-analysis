{
  "nbformat": 4,
  "nbformat_minor": 0,
  "metadata": {
    "colab": {
      "name": "Outlier Analysis (IQR) .ipynb",
      "provenance": [],
      "authorship_tag": "ABX9TyMGtmcQuy2w+us/dPFdxSOG",
      "include_colab_link": true
    },
    "kernelspec": {
      "name": "python3",
      "display_name": "Python 3"
    },
    "language_info": {
      "name": "python"
    }
  },
  "cells": [
    {
      "cell_type": "markdown",
      "metadata": {
        "id": "view-in-github",
        "colab_type": "text"
      },
      "source": [
        "<a href=\"https://colab.research.google.com/github/cheshtadhingra/Data-analysis/blob/main/Outlier_Analysis_(IQR)_.ipynb\" target=\"_parent\"><img src=\"https://colab.research.google.com/assets/colab-badge.svg\" alt=\"Open In Colab\"/></a>"
      ]
    },
    {
      "cell_type": "markdown",
      "source": [
        "**Outlier Analysis using Inter quartile range**"
      ],
      "metadata": {
        "id": "BCyjAgVaPNkM"
      }
    },
    {
      "cell_type": "markdown",
      "source": [
        "1. We start by importing all the necessary libraries\n"
      ],
      "metadata": {
        "id": "oNybsXUxPQD8"
      }
    },
    {
      "cell_type": "code",
      "execution_count": 1,
      "metadata": {
        "id": "t4hHbX3wLimd"
      },
      "outputs": [],
      "source": [
        "import pandas as pd\n",
        "import numpy as np\n"
      ]
    },
    {
      "cell_type": "markdown",
      "source": [
        "2. Defining the dataset"
      ],
      "metadata": {
        "id": "3-OolavYPbEx"
      }
    },
    {
      "cell_type": "code",
      "source": [
        "dataset = np.array( [23,24,26,34,23,6,45,23,54,28,29, 28, 34, 23, 20, 21, 24, 288, 34, 344, 23])"
      ],
      "metadata": {
        "id": "u_db6EUwLtr2"
      },
      "execution_count": 2,
      "outputs": []
    },
    {
      "cell_type": "markdown",
      "source": [
        "3. Sorting the dataset to begin working on it."
      ],
      "metadata": {
        "id": "4_WRClvNPtsn"
      }
    },
    {
      "cell_type": "code",
      "source": [
        "dataset = sorted(dataset)\n",
        "dataset"
      ],
      "metadata": {
        "colab": {
          "base_uri": "https://localhost:8080/"
        },
        "id": "2PbYdHjMM86T",
        "outputId": "11fc2f40-a707-4ada-ada4-8e85cf657c44"
      },
      "execution_count": 5,
      "outputs": [
        {
          "output_type": "execute_result",
          "data": {
            "text/plain": [
              "[6,\n",
              " 20,\n",
              " 21,\n",
              " 23,\n",
              " 23,\n",
              " 23,\n",
              " 23,\n",
              " 23,\n",
              " 24,\n",
              " 24,\n",
              " 26,\n",
              " 28,\n",
              " 28,\n",
              " 29,\n",
              " 34,\n",
              " 34,\n",
              " 34,\n",
              " 45,\n",
              " 54,\n",
              " 288,\n",
              " 344]"
            ]
          },
          "metadata": {},
          "execution_count": 5
        }
      ]
    },
    {
      "cell_type": "markdown",
      "source": [
        "4. Saving the values of first and third quartiles under the variables q1, q3 to calculate the interquartile range and upper, lower bound to begin with outlier analysis."
      ],
      "metadata": {
        "id": "0P9nsW_-P2Ms"
      }
    },
    {
      "cell_type": "code",
      "source": [
        "q1, q3 = np.percentile(sorted(dataset), [25, 75])"
      ],
      "metadata": {
        "id": "K3c77MVLMGb5"
      },
      "execution_count": 6,
      "outputs": []
    },
    {
      "cell_type": "code",
      "source": [
        "print(q1, q3)"
      ],
      "metadata": {
        "colab": {
          "base_uri": "https://localhost:8080/"
        },
        "id": "Z-Vv7PcxMN9c",
        "outputId": "f2e7178a-939d-45d1-b123-8040d5ca5d28"
      },
      "execution_count": 7,
      "outputs": [
        {
          "output_type": "stream",
          "name": "stdout",
          "text": [
            "23.0 34.0\n"
          ]
        }
      ]
    },
    {
      "cell_type": "markdown",
      "source": [
        "5. Calculating inter-quartile range"
      ],
      "metadata": {
        "id": "4Y9zEO2NQFQz"
      }
    },
    {
      "cell_type": "code",
      "source": [
        "inter_quartile_range = q3-q1\n",
        "inter_quartile_range"
      ],
      "metadata": {
        "colab": {
          "base_uri": "https://localhost:8080/"
        },
        "id": "62SSWVlNM610",
        "outputId": "35d83569-69a3-4e8d-cae2-eb37b603224a"
      },
      "execution_count": 8,
      "outputs": [
        {
          "output_type": "execute_result",
          "data": {
            "text/plain": [
              "11.0"
            ]
          },
          "metadata": {},
          "execution_count": 8
        }
      ]
    },
    {
      "cell_type": "markdown",
      "source": [
        "6. calculating the upper and lower bound"
      ],
      "metadata": {
        "id": "nKwLdr3lQMBR"
      }
    },
    {
      "cell_type": "code",
      "source": [
        "lower_bound = q1 - 1.5*inter_quartile_range\n",
        "lower_bound"
      ],
      "metadata": {
        "colab": {
          "base_uri": "https://localhost:8080/"
        },
        "id": "ggqnDDwGNQev",
        "outputId": "8f795bc2-c909-4e7d-ab75-055dfc788b00"
      },
      "execution_count": 9,
      "outputs": [
        {
          "output_type": "execute_result",
          "data": {
            "text/plain": [
              "6.5"
            ]
          },
          "metadata": {},
          "execution_count": 9
        }
      ]
    },
    {
      "cell_type": "code",
      "source": [
        "upper_bound = q3 + 1.5*inter_quartile_range\n",
        "upper_bound"
      ],
      "metadata": {
        "colab": {
          "base_uri": "https://localhost:8080/"
        },
        "id": "YAUARtovNZst",
        "outputId": "bbff2bd0-34d9-4572-9c00-5eded8f6dd38"
      },
      "execution_count": 10,
      "outputs": [
        {
          "output_type": "execute_result",
          "data": {
            "text/plain": [
              "50.5"
            ]
          },
          "metadata": {},
          "execution_count": 10
        }
      ]
    },
    {
      "cell_type": "markdown",
      "source": [
        "7. Defining a function called outliers to find the outliers in the data."
      ],
      "metadata": {
        "id": "wubP9tVMQPPh"
      }
    },
    {
      "cell_type": "code",
      "source": [
        "def outliers(data):\n",
        "  outlier = []\n",
        "  for value in data: \n",
        "    if value < lower_bound:\n",
        "      outlier.append(value)\n",
        "    elif value > upper_bound:\n",
        "      outlier.append(value)\n",
        "  return outlier"
      ],
      "metadata": {
        "id": "H2o7Q6IFNirD"
      },
      "execution_count": 11,
      "outputs": []
    },
    {
      "cell_type": "code",
      "source": [
        "outliers(dataset)"
      ],
      "metadata": {
        "colab": {
          "base_uri": "https://localhost:8080/"
        },
        "id": "n-eW_4cjO4ML",
        "outputId": "305695e2-b355-4b33-f3fb-864b604aceec"
      },
      "execution_count": 12,
      "outputs": [
        {
          "output_type": "execute_result",
          "data": {
            "text/plain": [
              "[6, 54, 288, 344]"
            ]
          },
          "metadata": {},
          "execution_count": 12
        }
      ]
    },
    {
      "cell_type": "markdown",
      "source": [
        "Note: There are several other ways to find outliers, like by calculating the z-score, or by simply plotting a boxplot, scatter plots."
      ],
      "metadata": {
        "id": "iGQgSkcxQXvu"
      }
    }
  ]
}