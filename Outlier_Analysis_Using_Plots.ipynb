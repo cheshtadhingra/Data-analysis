{
  "nbformat": 4,
  "nbformat_minor": 0,
  "metadata": {
    "colab": {
      "name": "Outlier Analysis Using Plots.ipynb",
      "provenance": [],
      "authorship_tag": "ABX9TyMgWDPjDGBVZct8/9pZlsi+",
      "include_colab_link": true
    },
    "kernelspec": {
      "name": "python3",
      "display_name": "Python 3"
    },
    "language_info": {
      "name": "python"
    }
  },
  "cells": [
    {
      "cell_type": "markdown",
      "metadata": {
        "id": "view-in-github",
        "colab_type": "text"
      },
      "source": [
        "<a href=\"https://colab.research.google.com/github/cheshtadhingra/Data-analysis/blob/main/Outlier_Analysis_Using_Plots.ipynb\" target=\"_parent\"><img src=\"https://colab.research.google.com/assets/colab-badge.svg\" alt=\"Open In Colab\"/></a>"
      ]
    },
    {
      "cell_type": "markdown",
      "source": [
        "**OUTLIER ANALYSIS USING BOXPLOTS**"
      ],
      "metadata": {
        "id": "8m_H__55Rf5O"
      }
    },
    {
      "cell_type": "markdown",
      "source": [
        "1. Importing all the necessary libraries."
      ],
      "metadata": {
        "id": "Ibv4kStyRk-Z"
      }
    },
    {
      "cell_type": "code",
      "source": [
        "import pandas as pd\n",
        "import numpy as np\n",
        "import seaborn as sns\n",
        "import matplotlib.pyplot as plt"
      ],
      "metadata": {
        "id": "krQq6dz8SAK4"
      },
      "execution_count": 1,
      "outputs": []
    },
    {
      "cell_type": "markdown",
      "source": [
        "2. Defining the dataset"
      ],
      "metadata": {
        "id": "yZVsz15LSKt2"
      }
    },
    {
      "cell_type": "code",
      "source": [
        "dataset = np.array( [23,24,26,34,23,6,45,23,54,28,29, 28, 34, 23, 20, 21, 24, 288, 34, 344, 23])\n",
        "dataset = sorted(dataset)\n",
        "dataset"
      ],
      "metadata": {
        "colab": {
          "base_uri": "https://localhost:8080/"
        },
        "id": "_SscsYHgSJdd",
        "outputId": "2b1cc867-57be-4e71-def4-af73b8eaf37b"
      },
      "execution_count": 2,
      "outputs": [
        {
          "output_type": "execute_result",
          "data": {
            "text/plain": [
              "[6,\n",
              " 20,\n",
              " 21,\n",
              " 23,\n",
              " 23,\n",
              " 23,\n",
              " 23,\n",
              " 23,\n",
              " 24,\n",
              " 24,\n",
              " 26,\n",
              " 28,\n",
              " 28,\n",
              " 29,\n",
              " 34,\n",
              " 34,\n",
              " 34,\n",
              " 45,\n",
              " 54,\n",
              " 288,\n",
              " 344]"
            ]
          },
          "metadata": {},
          "execution_count": 2
        }
      ]
    },
    {
      "cell_type": "markdown",
      "source": [
        "3. Creating Box-Plot to determine the outliers in the dataset."
      ],
      "metadata": {
        "id": "0SZ2owKYSRQZ"
      }
    },
    {
      "cell_type": "code",
      "source": [
        "plt.figure(figsize=(19,9))\n",
        "sns.boxplot(dataset)"
      ],
      "metadata": {
        "colab": {
          "base_uri": "https://localhost:8080/",
          "height": 609
        },
        "id": "-9sCSyrMSIqS",
        "outputId": "8757d488-9fa3-4477-c206-ebe4c623e35b"
      },
      "execution_count": 4,
      "outputs": [
        {
          "output_type": "stream",
          "name": "stderr",
          "text": [
            "/usr/local/lib/python3.7/dist-packages/seaborn/_decorators.py:43: FutureWarning: Pass the following variable as a keyword arg: x. From version 0.12, the only valid positional argument will be `data`, and passing other arguments without an explicit keyword will result in an error or misinterpretation.\n",
            "  FutureWarning\n"
          ]
        },
        {
          "output_type": "execute_result",
          "data": {
            "text/plain": [
              "<matplotlib.axes._subplots.AxesSubplot at 0x7f6426424750>"
            ]
          },
          "metadata": {},
          "execution_count": 4
        },
        {
          "output_type": "display_data",
          "data": {
            "image/png": "[encoded data removed]",
            "text/plain": [
              "<Figure size 1368x648 with 1 Axes>"
            ]
          },
          "metadata": {
            "needs_background": "light"
          }
        }
      ]
    },
    {
      "cell_type": "code",
      "source": [
        ""
      ],
      "metadata": {
        "id": "FQMiyYzvSwL2"
      },
      "execution_count": 8,
      "outputs": []
    },
    {
      "cell_type": "code",
      "source": [
        ""
      ],
      "metadata": {
        "id": "YwiMV1vuS_x3"
      },
      "execution_count": null,
      "outputs": []
    }
  ]
}